{
 "cells": [
  {
   "cell_type": "markdown",
   "id": "e0d625c6",
   "metadata": {},
   "source": [
    "# Loading processed data"
   ]
  },
  {
   "cell_type": "code",
   "execution_count": 29,
   "id": "e5aa6f6b",
   "metadata": {},
   "outputs": [],
   "source": [
    "# Importing data science libraries\n",
    "import numpy as np\n",
    "import pandas as pd\n",
    "import matplotlib.pyplot as plt\n",
    "import seaborn as sns\n",
    "from imblearn.combine import SMOTETomek\n",
    "\n",
    "from sklearn.linear_model import LogisticRegression\n",
    "from sklearn.svm import SVC\n",
    "from sklearn.tree import DecisionTreeClassifier\n",
    "from sklearn.ensemble import RandomForestClassifier\n",
    "from xgboost import XGBClassifier\n",
    "from sklearn.metrics import classification_report\n",
    "from sklearn.model_selection import cross_val_score\n",
    "from sklearn.metrics import roc_curve, auc\n",
    "\n",
    "import optuna as o\n",
    "from joblib import dump\n",
    "\n",
    "# Importing processed data\n",
    "X_train = pd.read_excel('D:/[01] SKILLS/[00] Projects/02 Probability of Default (PD) Model/data/processed/X_train.xlsx')\n",
    "y_train = pd.read_excel('D:/[01] SKILLS/[00] Projects/02 Probability of Default (PD) Model/data/processed/y_train.xlsx')\n",
    "X_test = pd.read_excel('D:/[01] SKILLS/[00] Projects/02 Probability of Default (PD) Model/data/processed/X_test.xlsx')\n",
    "y_test = pd.read_excel('D:/[01] SKILLS/[00] Projects/02 Probability of Default (PD) Model/data/processed/y_test.xlsx')"
   ]
  },
  {
   "cell_type": "markdown",
   "id": "eb8352db",
   "metadata": {},
   "source": [
    "## Handling Imbalance"
   ]
  },
  {
   "cell_type": "code",
   "execution_count": 30,
   "id": "fc402730",
   "metadata": {},
   "outputs": [],
   "source": [
    "# Using SMOTE Tomek to handle imbalance\n",
    "smt = SMOTETomek()\n",
    "X_train_smt, y_train_smt = smt.fit_resample(X_train, y_train)"
   ]
  },
  {
   "cell_type": "markdown",
   "id": "d59d4542",
   "metadata": {},
   "source": [
    "# Model Development"
   ]
  },
  {
   "cell_type": "code",
   "execution_count": 31,
   "id": "b994b12e",
   "metadata": {},
   "outputs": [
    {
     "name": "stdout",
     "output_type": "stream",
     "text": [
      "Classification Report of Logistic Regression:\n",
      "              precision    recall  f1-score   support\n",
      "\n",
      "           0       0.99      0.93      0.96     13714\n",
      "           1       0.57      0.94      0.71      1285\n",
      "\n",
      "    accuracy                           0.93     14999\n",
      "   macro avg       0.78      0.94      0.84     14999\n",
      "weighted avg       0.96      0.93      0.94     14999\n",
      "\n",
      "=======================================================\n",
      "Classification Report of SVC:\n",
      "              precision    recall  f1-score   support\n",
      "\n",
      "           0       0.99      0.94      0.97     13714\n",
      "           1       0.61      0.94      0.74      1285\n",
      "\n",
      "    accuracy                           0.94     14999\n",
      "   macro avg       0.80      0.94      0.85     14999\n",
      "weighted avg       0.96      0.94      0.95     14999\n",
      "\n",
      "=======================================================\n",
      "Classification Report of Decision Tree:\n",
      "              precision    recall  f1-score   support\n",
      "\n",
      "           0       0.98      0.96      0.97     13714\n",
      "           1       0.62      0.76      0.69      1285\n",
      "\n",
      "    accuracy                           0.94     14999\n",
      "   macro avg       0.80      0.86      0.83     14999\n",
      "weighted avg       0.95      0.94      0.94     14999\n",
      "\n",
      "=======================================================\n",
      "Classification Report of Random Forest:\n",
      "              precision    recall  f1-score   support\n",
      "\n",
      "           0       0.98      0.96      0.97     13714\n",
      "           1       0.69      0.84      0.76      1285\n",
      "\n",
      "    accuracy                           0.95     14999\n",
      "   macro avg       0.84      0.90      0.87     14999\n",
      "weighted avg       0.96      0.95      0.96     14999\n",
      "\n",
      "=======================================================\n",
      "Classification Report of XGBoost:\n",
      "              precision    recall  f1-score   support\n",
      "\n",
      "           0       0.98      0.98      0.98     13714\n",
      "           1       0.76      0.80      0.78      1285\n",
      "\n",
      "    accuracy                           0.96     14999\n",
      "   macro avg       0.87      0.89      0.88     14999\n",
      "weighted avg       0.96      0.96      0.96     14999\n",
      "\n",
      "=======================================================\n"
     ]
    }
   ],
   "source": [
    "models = {\n",
    "    'Logistic Regression':LogisticRegression(),\n",
    "    'SVC': SVC(),\n",
    "    'Decision Tree': DecisionTreeClassifier(),\n",
    "    'Random Forest': RandomForestClassifier(),\n",
    "    'XGBoost':XGBClassifier()\n",
    "}\n",
    "\n",
    "\n",
    "for key, model in models.items():\n",
    "    model.fit(X_train_smt, np.ravel(y_train_smt))\n",
    "    y_pred = model.predict(X_test)\n",
    "    print(f'Classification Report of {key}:')\n",
    "    print(classification_report(y_test, y_pred))\n",
    "    print(\"=\"*55)"
   ]
  },
  {
   "cell_type": "markdown",
   "id": "cfe0f5ef",
   "metadata": {},
   "source": [
    "In such cases, we prefer high recall and therefore we will move ahead with `Logistic Regression`"
   ]
  },
  {
   "cell_type": "markdown",
   "id": "74ebb316",
   "metadata": {},
   "source": [
    "## Optuna fine tuning "
   ]
  },
  {
   "cell_type": "code",
   "execution_count": 32,
   "id": "693e02f6",
   "metadata": {},
   "outputs": [
    {
     "name": "stderr",
     "output_type": "stream",
     "text": [
      "[I 2025-08-24 16:21:30,844] A new study created in memory with name: no-name-cf8f014b-2cb6-4e73-9c0c-30fd50422345\n",
      "[I 2025-08-24 16:21:31,619] Trial 0 finished with value: 0.9491599002946188 and parameters: {'C': 0.14876695749709945, 'solver': 'lbfgs'}. Best is trial 0 with value: 0.9491599002946188.\n",
      "[I 2025-08-24 16:21:32,600] Trial 1 finished with value: 0.9420700810510191 and parameters: {'C': 0.05230217094560518, 'solver': 'liblinear'}. Best is trial 0 with value: 0.9491599002946188.\n",
      "[I 2025-08-24 16:21:33,961] Trial 2 finished with value: 0.9522851029594284 and parameters: {'C': 2.6776929516857875, 'solver': 'saga'}. Best is trial 2 with value: 0.9522851029594284.\n",
      "[I 2025-08-24 16:21:35,334] Trial 3 finished with value: 0.950930718371126 and parameters: {'C': 0.4627653082350223, 'solver': 'liblinear'}. Best is trial 2 with value: 0.9522851029594284.\n",
      "[I 2025-08-24 16:21:36,153] Trial 4 finished with value: 0.9520527100155716 and parameters: {'C': 1.2843136486003506, 'solver': 'lbfgs'}. Best is trial 2 with value: 0.9522851029594284.\n",
      "[I 2025-08-24 16:21:37,901] Trial 5 finished with value: 0.9523959689642838 and parameters: {'C': 3983.388366655409, 'solver': 'liblinear'}. Best is trial 5 with value: 0.9523959689642838.\n",
      "[I 2025-08-24 16:21:38,867] Trial 6 finished with value: 0.9524728297726679 and parameters: {'C': 284.841380775412, 'solver': 'lbfgs'}. Best is trial 6 with value: 0.9524728297726679.\n",
      "[I 2025-08-24 16:21:40,226] Trial 7 finished with value: 0.9524441257444745 and parameters: {'C': 8210.759000746655, 'solver': 'saga'}. Best is trial 6 with value: 0.9524728297726679.\n",
      "[I 2025-08-24 16:21:41,023] Trial 8 finished with value: 0.951867686164187 and parameters: {'C': 0.6859497747428458, 'solver': 'lbfgs'}. Best is trial 6 with value: 0.9524728297726679.\n",
      "[I 2025-08-24 16:21:42,378] Trial 9 finished with value: 0.9524649808562792 and parameters: {'C': 1162.7501821223043, 'solver': 'newton-cg'}. Best is trial 6 with value: 0.9524728297726679.\n",
      "[I 2025-08-24 16:21:43,075] Trial 10 finished with value: 0.8965216102039744 and parameters: {'C': 0.0005438088998497236, 'solver': 'newton-cg'}. Best is trial 6 with value: 0.9524728297726679.\n",
      "[I 2025-08-24 16:21:44,361] Trial 11 finished with value: 0.9524810320748159 and parameters: {'C': 156.78367580800375, 'solver': 'newton-cg'}. Best is trial 11 with value: 0.9524810320748159.\n",
      "[I 2025-08-24 16:21:45,631] Trial 12 finished with value: 0.9524810320748159 and parameters: {'C': 202.65200163475626, 'solver': 'newton-cg'}. Best is trial 11 with value: 0.9524810320748159.\n",
      "[I 2025-08-24 16:21:46,996] Trial 13 finished with value: 0.9525280758116406 and parameters: {'C': 47.072859935842786, 'solver': 'newton-cg'}. Best is trial 13 with value: 0.9525280758116406.\n",
      "[I 2025-08-24 16:21:48,302] Trial 14 finished with value: 0.9524987639026836 and parameters: {'C': 32.33018402650216, 'solver': 'newton-cg'}. Best is trial 13 with value: 0.9525280758116406.\n",
      "[I 2025-08-24 16:21:49,617] Trial 15 finished with value: 0.9525029780061848 and parameters: {'C': 17.5697095789143, 'solver': 'newton-cg'}. Best is trial 13 with value: 0.9525280758116406.\n",
      "[I 2025-08-24 16:21:50,914] Trial 16 finished with value: 0.9525044437905519 and parameters: {'C': 11.21644057151251, 'solver': 'newton-cg'}. Best is trial 13 with value: 0.9525280758116406.\n",
      "[I 2025-08-24 16:21:51,502] Trial 17 finished with value: 0.9218853670967306 and parameters: {'C': 0.0019279475627266307, 'solver': 'newton-cg'}. Best is trial 13 with value: 0.9525280758116406.\n",
      "[I 2025-08-24 16:21:52,272] Trial 18 finished with value: 0.9362347614027751 and parameters: {'C': 0.009828639072881885, 'solver': 'newton-cg'}. Best is trial 13 with value: 0.9525280758116406.\n",
      "[I 2025-08-24 16:21:53,630] Trial 19 finished with value: 0.9524387856599168 and parameters: {'C': 8.641703658334773, 'solver': 'saga'}. Best is trial 13 with value: 0.9525280758116406.\n",
      "[I 2025-08-24 16:21:54,075] Trial 20 finished with value: 0.83542917142184 and parameters: {'C': 0.00010335412316962057, 'solver': 'newton-cg'}. Best is trial 13 with value: 0.9525280758116406.\n",
      "[I 2025-08-24 16:21:55,398] Trial 21 finished with value: 0.9525176306337203 and parameters: {'C': 18.628705808099703, 'solver': 'newton-cg'}. Best is trial 13 with value: 0.9525280758116406.\n",
      "[I 2025-08-24 16:21:56,711] Trial 22 finished with value: 0.9525134209232149 and parameters: {'C': 36.11708375342933, 'solver': 'newton-cg'}. Best is trial 13 with value: 0.9525280758116406.\n",
      "[I 2025-08-24 16:21:58,027] Trial 23 finished with value: 0.9524956889877718 and parameters: {'C': 97.56084049343649, 'solver': 'newton-cg'}. Best is trial 13 with value: 0.9525280758116406.\n",
      "[I 2025-08-24 16:21:59,379] Trial 24 finished with value: 0.9525280758116406 and parameters: {'C': 48.51607478173413, 'solver': 'newton-cg'}. Best is trial 13 with value: 0.9525280758116406.\n",
      "[I 2025-08-24 16:22:00,706] Trial 25 finished with value: 0.9524649808562792 and parameters: {'C': 806.7810147362943, 'solver': 'newton-cg'}. Best is trial 13 with value: 0.9525280758116406.\n",
      "[I 2025-08-24 16:22:01,977] Trial 26 finished with value: 0.9523743733370719 and parameters: {'C': 3.172554941055501, 'solver': 'newton-cg'}. Best is trial 13 with value: 0.9525280758116406.\n",
      "[I 2025-08-24 16:22:03,343] Trial 27 finished with value: 0.9523959689642838 and parameters: {'C': 625.1953465207366, 'solver': 'saga'}. Best is trial 13 with value: 0.9525280758116406.\n",
      "[I 2025-08-24 16:22:04,929] Trial 28 finished with value: 0.9524475328550416 and parameters: {'C': 60.62458081616134, 'solver': 'liblinear'}. Best is trial 13 with value: 0.9525280758116406.\n",
      "[I 2025-08-24 16:22:05,639] Trial 29 finished with value: 0.9490290126609302 and parameters: {'C': 0.14644955581433963, 'solver': 'lbfgs'}. Best is trial 13 with value: 0.9525280758116406.\n",
      "[I 2025-08-24 16:22:07,017] Trial 30 finished with value: 0.9524269301110586 and parameters: {'C': 4.3383076267777, 'solver': 'newton-cg'}. Best is trial 13 with value: 0.9525280758116406.\n",
      "[I 2025-08-24 16:22:08,314] Trial 31 finished with value: 0.9524827060341725 and parameters: {'C': 38.857467724225295, 'solver': 'newton-cg'}. Best is trial 13 with value: 0.9525280758116406.\n",
      "[I 2025-08-24 16:22:09,654] Trial 32 finished with value: 0.9525001948530667 and parameters: {'C': 26.02426935291541, 'solver': 'newton-cg'}. Best is trial 13 with value: 0.9525280758116406.\n",
      "[I 2025-08-24 16:22:10,959] Trial 33 finished with value: 0.9524649808562792 and parameters: {'C': 1978.355165428904, 'solver': 'newton-cg'}. Best is trial 13 with value: 0.9525280758116406.\n",
      "[I 2025-08-24 16:22:12,064] Trial 34 finished with value: 0.9502815661874188 and parameters: {'C': 0.21530839690285447, 'solver': 'newton-cg'}. Best is trial 13 with value: 0.9525280758116406.\n",
      "[I 2025-08-24 16:22:13,596] Trial 35 finished with value: 0.9524071265403895 and parameters: {'C': 5.266142091600775, 'solver': 'liblinear'}. Best is trial 13 with value: 0.9525280758116406.\n",
      "[I 2025-08-24 16:22:14,928] Trial 36 finished with value: 0.9518478846393046 and parameters: {'C': 1.0700304044671867, 'solver': 'saga'}. Best is trial 13 with value: 0.9525280758116406.\n",
      "[I 2025-08-24 16:22:16,589] Trial 37 finished with value: 0.9524151201423251 and parameters: {'C': 80.60923978306155, 'solver': 'liblinear'}. Best is trial 13 with value: 0.9525280758116406.\n",
      "[I 2025-08-24 16:22:17,499] Trial 38 finished with value: 0.9524450777666432 and parameters: {'C': 346.668908116894, 'solver': 'lbfgs'}. Best is trial 13 with value: 0.9525280758116406.\n",
      "[I 2025-08-24 16:22:18,970] Trial 39 finished with value: 0.9519966811740763 and parameters: {'C': 1.8938865511173695, 'solver': 'newton-cg'}. Best is trial 13 with value: 0.9525280758116406.\n",
      "[I 2025-08-24 16:22:20,267] Trial 40 finished with value: 0.9525176024586134 and parameters: {'C': 13.381837174315901, 'solver': 'newton-cg'}. Best is trial 13 with value: 0.9525280758116406.\n",
      "[I 2025-08-24 16:22:21,626] Trial 41 finished with value: 0.9525497338300815 and parameters: {'C': 12.490728236643456, 'solver': 'newton-cg'}. Best is trial 41 with value: 0.9525497338300815.\n",
      "[I 2025-08-24 16:22:22,951] Trial 42 finished with value: 0.9525044437905519 and parameters: {'C': 11.039165066459633, 'solver': 'newton-cg'}. Best is trial 41 with value: 0.9525497338300815.\n",
      "[I 2025-08-24 16:22:24,087] Trial 43 finished with value: 0.9515638637480276 and parameters: {'C': 0.5128296823201853, 'solver': 'newton-cg'}. Best is trial 41 with value: 0.9525497338300815.\n",
      "[I 2025-08-24 16:22:25,404] Trial 44 finished with value: 0.9524956889877718 and parameters: {'C': 131.09384584907087, 'solver': 'newton-cg'}. Best is trial 41 with value: 0.9525497338300815.\n",
      "[I 2025-08-24 16:22:26,410] Trial 45 finished with value: 0.9524596893789108 and parameters: {'C': 356.3380560838966, 'solver': 'lbfgs'}. Best is trial 41 with value: 0.9525497338300815.\n",
      "[I 2025-08-24 16:22:27,753] Trial 46 finished with value: 0.9525176024586134 and parameters: {'C': 14.27122379810346, 'solver': 'newton-cg'}. Best is trial 41 with value: 0.9525497338300815.\n",
      "[I 2025-08-24 16:22:29,099] Trial 47 finished with value: 0.9524387841407854 and parameters: {'C': 4.7260560322085805, 'solver': 'saga'}. Best is trial 41 with value: 0.9525497338300815.\n",
      "[I 2025-08-24 16:22:30,420] Trial 48 finished with value: 0.9525280758116406 and parameters: {'C': 65.89843920581802, 'solver': 'newton-cg'}. Best is trial 41 with value: 0.9525497338300815.\n",
      "[I 2025-08-24 16:22:31,986] Trial 49 finished with value: 0.9524120275825372 and parameters: {'C': 3543.684658607256, 'solver': 'liblinear'}. Best is trial 41 with value: 0.9525497338300815.\n"
     ]
    }
   ],
   "source": [
    "# Defining the objective function to maximize\n",
    "def objective(trial):\n",
    "    C= trial.suggest_float('C', 1e-4, 1e4, log=True)\n",
    "    solver= trial.suggest_categorical('solver', ['lbfgs', 'saga', 'liblinear', 'newton-cg'])\n",
    "\n",
    "    model = LogisticRegression(\n",
    "        C= C,\n",
    "        solver= solver\n",
    "    )\n",
    "\n",
    "    f1_score = cross_val_score(\n",
    "        estimator= model,\n",
    "        X= X_train_smt, \n",
    "        y= np.ravel(y_train_smt),\n",
    "        cv= 5,\n",
    "        scoring= 'f1'\n",
    "    ).mean()\n",
    "\n",
    "    return f1_score\n",
    "\n",
    "# Defining study\n",
    "study = o.create_study(\n",
    "     direction= 'maximize',\n",
    "     sampler= o.samplers.TPESampler()\n",
    " )\n",
    "\n",
    "study.optimize(func= objective, n_trials= 50)"
   ]
  },
  {
   "cell_type": "markdown",
   "id": "46f7a2e2",
   "metadata": {},
   "source": [
    "## Best parameters"
   ]
  },
  {
   "cell_type": "code",
   "execution_count": 33,
   "id": "0e8facd4",
   "metadata": {},
   "outputs": [
    {
     "name": "stdout",
     "output_type": "stream",
     "text": [
      "Best Parameters: {'C': 12.490728236643456, 'solver': 'newton-cg'}\n",
      "F1 Score: 0.9525497338300815\n"
     ]
    }
   ],
   "source": [
    "print(\"Best Parameters:\", study.best_trial.params)\n",
    "print(\"F1 Score:\", study.best_trial.value)"
   ]
  },
  {
   "cell_type": "markdown",
   "id": "17d75688",
   "metadata": {},
   "source": [
    "## Best Model"
   ]
  },
  {
   "cell_type": "code",
   "execution_count": 34,
   "id": "c4c542ce",
   "metadata": {},
   "outputs": [
    {
     "name": "stdout",
     "output_type": "stream",
     "text": [
      "Classification Report:\n",
      "              precision    recall  f1-score   support\n",
      "\n",
      "           0       0.99      0.93      0.96     13714\n",
      "           1       0.58      0.94      0.71      1285\n",
      "\n",
      "    accuracy                           0.94     14999\n",
      "   macro avg       0.78      0.94      0.84     14999\n",
      "weighted avg       0.96      0.94      0.94     14999\n",
      "\n"
     ]
    }
   ],
   "source": [
    "model_lr_optuna = LogisticRegression(**study.best_trial.params)\n",
    "model_lr_optuna.fit(X_train_smt, np.ravel(y_train_smt))\n",
    "y_pred_lr_optuna = model_lr_optuna.predict(X_test)\n",
    "print(\"Classification Report:\")\n",
    "print(classification_report(y_test, y_pred_lr_optuna))"
   ]
  },
  {
   "cell_type": "markdown",
   "id": "50104216",
   "metadata": {},
   "source": [
    "## ROC & AUC"
   ]
  },
  {
   "cell_type": "code",
   "execution_count": 35,
   "id": "a7f005a2",
   "metadata": {},
   "outputs": [
    {
     "data": {
      "image/png": "[encoded data removed]",
      "text/plain": [
       "<Figure size 640x480 with 1 Axes>"
      ]
     },
     "metadata": {},
     "output_type": "display_data"
    }
   ],
   "source": [
    "# Calculating probabilies for predictions\n",
    "probabilities = model_lr_optuna.predict_proba(X_test)[:,1]\n",
    "\n",
    "# Defining ROC and AUC\n",
    "fpr, tpr, thresholds = roc_curve(y_test, probabilities)\n",
    "area = auc(fpr,tpr)\n",
    "\n",
    "plt.plot(\n",
    "    fpr,\n",
    "    tpr,\n",
    "    color='darkorange',\n",
    "    label=f'ROC curve (area = {area:.2f})' \n",
    ")\n",
    "plt.plot(\n",
    "    [0.0,1.0],\n",
    "    [0.0,1.0],\n",
    "    color='darkblue',\n",
    "    linestyle='--'\n",
    ")\n",
    "plt.title('Receiver Operating Characteristic Curve')\n",
    "plt.xlabel('FPR')\n",
    "plt.ylabel('TPR')\n",
    "plt.legend()\n",
    "plt.show()"
   ]
  },
  {
   "cell_type": "markdown",
   "id": "8a18f8c7",
   "metadata": {},
   "source": [
    "# Advance metrics"
   ]
  },
  {
   "cell_type": "markdown",
   "id": "b8fd9cf9",
   "metadata": {},
   "source": [
    "## Rank Ordering & KS Statistic"
   ]
  },
  {
   "cell_type": "code",
   "execution_count": 36,
   "id": "3b69f66b",
   "metadata": {},
   "outputs": [
    {
     "data": {
      "text/html": [
       "<div>\n",
       "<style scoped>\n",
       "    .dataframe tbody tr th:only-of-type {\n",
       "        vertical-align: middle;\n",
       "    }\n",
       "\n",
       "    .dataframe tbody tr th {\n",
       "        vertical-align: top;\n",
       "    }\n",
       "\n",
       "    .dataframe thead th {\n",
       "        text-align: right;\n",
       "    }\n",
       "</style>\n",
       "<table border=\"1\" class=\"dataframe\">\n",
       "  <thead>\n",
       "    <tr style=\"text-align: right;\">\n",
       "      <th></th>\n",
       "      <th>Default Truth</th>\n",
       "      <th>Default Probability</th>\n",
       "      <th>Decile</th>\n",
       "    </tr>\n",
       "  </thead>\n",
       "  <tbody>\n",
       "    <tr>\n",
       "      <th>0</th>\n",
       "      <td>0</td>\n",
       "      <td>0.00271</td>\n",
       "      <td>6</td>\n",
       "    </tr>\n",
       "    <tr>\n",
       "      <th>1</th>\n",
       "      <td>0</td>\n",
       "      <td>0.00145</td>\n",
       "      <td>5</td>\n",
       "    </tr>\n",
       "    <tr>\n",
       "      <th>2</th>\n",
       "      <td>0</td>\n",
       "      <td>0.00000</td>\n",
       "      <td>2</td>\n",
       "    </tr>\n",
       "    <tr>\n",
       "      <th>3</th>\n",
       "      <td>0</td>\n",
       "      <td>0.07208</td>\n",
       "      <td>7</td>\n",
       "    </tr>\n",
       "    <tr>\n",
       "      <th>4</th>\n",
       "      <td>1</td>\n",
       "      <td>0.88904</td>\n",
       "      <td>9</td>\n",
       "    </tr>\n",
       "  </tbody>\n",
       "</table>\n",
       "</div>"
      ],
      "text/plain": [
       "   Default Truth  Default Probability  Decile\n",
       "0              0              0.00271       6\n",
       "1              0              0.00145       5\n",
       "2              0              0.00000       2\n",
       "3              0              0.07208       7\n",
       "4              1              0.88904       9"
      ]
     },
     "execution_count": 36,
     "metadata": {},
     "output_type": "execute_result"
    }
   ],
   "source": [
    "proxy= {\n",
    "    'Default Truth': np.ravel(y_test),\n",
    "    'Default Probability':probabilities,\n",
    "    'Decile': pd.qcut(probabilities, q= 10, labels= False, duplicates= 'drop')\n",
    "\n",
    "}\n",
    "\n",
    "df_eval = pd.DataFrame(proxy)\n",
    "df_eval.head()"
   ]
  },
  {
   "cell_type": "code",
   "execution_count": 37,
   "id": "57cf76cd",
   "metadata": {},
   "outputs": [
    {
     "data": {
      "text/html": [
       "<div>\n",
       "<style scoped>\n",
       "    .dataframe tbody tr th:only-of-type {\n",
       "        vertical-align: middle;\n",
       "    }\n",
       "\n",
       "    .dataframe tbody tr th {\n",
       "        vertical-align: top;\n",
       "    }\n",
       "\n",
       "    .dataframe thead th {\n",
       "        text-align: right;\n",
       "    }\n",
       "</style>\n",
       "<table border=\"1\" class=\"dataframe\">\n",
       "  <thead>\n",
       "    <tr style=\"text-align: right;\">\n",
       "      <th></th>\n",
       "      <th>Decile</th>\n",
       "      <th>Minimum_Probability</th>\n",
       "      <th>Maximum_Probability</th>\n",
       "      <th>Event</th>\n",
       "      <th>Non_event</th>\n",
       "      <th>Event rate</th>\n",
       "      <th>Non event rate</th>\n",
       "      <th>Cum event</th>\n",
       "      <th>Cum Non event</th>\n",
       "      <th>Cum event rate</th>\n",
       "      <th>Cum Non event rate</th>\n",
       "      <th>KS</th>\n",
       "    </tr>\n",
       "  </thead>\n",
       "  <tbody>\n",
       "    <tr>\n",
       "      <th>0</th>\n",
       "      <td>9</td>\n",
       "      <td>0.80101</td>\n",
       "      <td>1.00000</td>\n",
       "      <td>1081</td>\n",
       "      <td>419</td>\n",
       "      <td>72.06667</td>\n",
       "      <td>27.93333</td>\n",
       "      <td>1081</td>\n",
       "      <td>419</td>\n",
       "      <td>84.12451</td>\n",
       "      <td>3.05527</td>\n",
       "      <td>81.06924</td>\n",
       "    </tr>\n",
       "    <tr>\n",
       "      <th>1</th>\n",
       "      <td>8</td>\n",
       "      <td>0.15746</td>\n",
       "      <td>0.80071</td>\n",
       "      <td>185</td>\n",
       "      <td>1315</td>\n",
       "      <td>12.33333</td>\n",
       "      <td>87.66667</td>\n",
       "      <td>1266</td>\n",
       "      <td>1734</td>\n",
       "      <td>98.52140</td>\n",
       "      <td>12.64401</td>\n",
       "      <td>85.87739</td>\n",
       "    </tr>\n",
       "    <tr>\n",
       "      <th>2</th>\n",
       "      <td>7</td>\n",
       "      <td>0.01824</td>\n",
       "      <td>0.15743</td>\n",
       "      <td>12</td>\n",
       "      <td>1488</td>\n",
       "      <td>0.80000</td>\n",
       "      <td>99.20000</td>\n",
       "      <td>1278</td>\n",
       "      <td>3222</td>\n",
       "      <td>99.45525</td>\n",
       "      <td>23.49424</td>\n",
       "      <td>75.96101</td>\n",
       "    </tr>\n",
       "    <tr>\n",
       "      <th>3</th>\n",
       "      <td>6</td>\n",
       "      <td>0.00229</td>\n",
       "      <td>0.01821</td>\n",
       "      <td>7</td>\n",
       "      <td>1493</td>\n",
       "      <td>0.46667</td>\n",
       "      <td>99.53333</td>\n",
       "      <td>1285</td>\n",
       "      <td>4715</td>\n",
       "      <td>100.00000</td>\n",
       "      <td>34.38092</td>\n",
       "      <td>65.61908</td>\n",
       "    </tr>\n",
       "    <tr>\n",
       "      <th>4</th>\n",
       "      <td>5</td>\n",
       "      <td>0.00034</td>\n",
       "      <td>0.00228</td>\n",
       "      <td>0</td>\n",
       "      <td>1499</td>\n",
       "      <td>0.00000</td>\n",
       "      <td>100.00000</td>\n",
       "      <td>1285</td>\n",
       "      <td>6214</td>\n",
       "      <td>100.00000</td>\n",
       "      <td>45.31136</td>\n",
       "      <td>54.68864</td>\n",
       "    </tr>\n",
       "    <tr>\n",
       "      <th>5</th>\n",
       "      <td>4</td>\n",
       "      <td>0.00006</td>\n",
       "      <td>0.00034</td>\n",
       "      <td>0</td>\n",
       "      <td>1500</td>\n",
       "      <td>0.00000</td>\n",
       "      <td>100.00000</td>\n",
       "      <td>1285</td>\n",
       "      <td>7714</td>\n",
       "      <td>100.00000</td>\n",
       "      <td>56.24909</td>\n",
       "      <td>43.75091</td>\n",
       "    </tr>\n",
       "    <tr>\n",
       "      <th>6</th>\n",
       "      <td>3</td>\n",
       "      <td>0.00001</td>\n",
       "      <td>0.00006</td>\n",
       "      <td>0</td>\n",
       "      <td>1500</td>\n",
       "      <td>0.00000</td>\n",
       "      <td>100.00000</td>\n",
       "      <td>1285</td>\n",
       "      <td>9214</td>\n",
       "      <td>100.00000</td>\n",
       "      <td>67.18682</td>\n",
       "      <td>32.81318</td>\n",
       "    </tr>\n",
       "    <tr>\n",
       "      <th>7</th>\n",
       "      <td>2</td>\n",
       "      <td>0.00000</td>\n",
       "      <td>0.00001</td>\n",
       "      <td>0</td>\n",
       "      <td>1500</td>\n",
       "      <td>0.00000</td>\n",
       "      <td>100.00000</td>\n",
       "      <td>1285</td>\n",
       "      <td>10714</td>\n",
       "      <td>100.00000</td>\n",
       "      <td>78.12454</td>\n",
       "      <td>21.87546</td>\n",
       "    </tr>\n",
       "    <tr>\n",
       "      <th>8</th>\n",
       "      <td>1</td>\n",
       "      <td>0.00000</td>\n",
       "      <td>0.00000</td>\n",
       "      <td>0</td>\n",
       "      <td>1500</td>\n",
       "      <td>0.00000</td>\n",
       "      <td>100.00000</td>\n",
       "      <td>1285</td>\n",
       "      <td>12214</td>\n",
       "      <td>100.00000</td>\n",
       "      <td>89.06227</td>\n",
       "      <td>10.93773</td>\n",
       "    </tr>\n",
       "    <tr>\n",
       "      <th>9</th>\n",
       "      <td>0</td>\n",
       "      <td>0.00000</td>\n",
       "      <td>0.00000</td>\n",
       "      <td>0</td>\n",
       "      <td>1500</td>\n",
       "      <td>0.00000</td>\n",
       "      <td>100.00000</td>\n",
       "      <td>1285</td>\n",
       "      <td>13714</td>\n",
       "      <td>100.00000</td>\n",
       "      <td>100.00000</td>\n",
       "      <td>0.00000</td>\n",
       "    </tr>\n",
       "  </tbody>\n",
       "</table>\n",
       "</div>"
      ],
      "text/plain": [
       "   Decile  Minimum_Probability  Maximum_Probability  Event  Non_event  \\\n",
       "0       9              0.80101              1.00000   1081        419   \n",
       "1       8              0.15746              0.80071    185       1315   \n",
       "2       7              0.01824              0.15743     12       1488   \n",
       "3       6              0.00229              0.01821      7       1493   \n",
       "4       5              0.00034              0.00228      0       1499   \n",
       "5       4              0.00006              0.00034      0       1500   \n",
       "6       3              0.00001              0.00006      0       1500   \n",
       "7       2              0.00000              0.00001      0       1500   \n",
       "8       1              0.00000              0.00000      0       1500   \n",
       "9       0              0.00000              0.00000      0       1500   \n",
       "\n",
       "   Event rate  Non event rate  Cum event  Cum Non event  Cum event rate  \\\n",
       "0    72.06667        27.93333       1081            419        84.12451   \n",
       "1    12.33333        87.66667       1266           1734        98.52140   \n",
       "2     0.80000        99.20000       1278           3222        99.45525   \n",
       "3     0.46667        99.53333       1285           4715       100.00000   \n",
       "4     0.00000       100.00000       1285           6214       100.00000   \n",
       "5     0.00000       100.00000       1285           7714       100.00000   \n",
       "6     0.00000       100.00000       1285           9214       100.00000   \n",
       "7     0.00000       100.00000       1285          10714       100.00000   \n",
       "8     0.00000       100.00000       1285          12214       100.00000   \n",
       "9     0.00000       100.00000       1285          13714       100.00000   \n",
       "\n",
       "   Cum Non event rate       KS  \n",
       "0             3.05527 81.06924  \n",
       "1            12.64401 85.87739  \n",
       "2            23.49424 75.96101  \n",
       "3            34.38092 65.61908  \n",
       "4            45.31136 54.68864  \n",
       "5            56.24909 43.75091  \n",
       "6            67.18682 32.81318  \n",
       "7            78.12454 21.87546  \n",
       "8            89.06227 10.93773  \n",
       "9           100.00000  0.00000  "
      ]
     },
     "execution_count": 37,
     "metadata": {},
     "output_type": "execute_result"
    }
   ],
   "source": [
    "pd.set_option('display.float_format', '{:.5f}'.format)\n",
    "\n",
    "df_grp = df_eval.groupby('Decile').agg(\n",
    "    Minimum_Probability=('Default Probability', 'min'),\n",
    "    Maximum_Probability=('Default Probability', 'max'),\n",
    "    Event=('Default Truth', 'sum'),\n",
    "    Non_event=('Default Truth', lambda x: x.count() - x.sum())\n",
    ").sort_values(by= 'Decile', ascending= False).reset_index()\n",
    "\n",
    "df_grp['Event rate'] = (df_grp['Event'] / (df_grp['Event'] + df_grp['Non_event'])) * 100\n",
    "df_grp['Non event rate'] = (df_grp['Non_event'] / (df_grp['Event'] + df_grp['Non_event'])) * 100\n",
    "\n",
    "df_grp['Cum event'] = df_grp['Event'].cumsum()\n",
    "df_grp['Cum Non event'] = df_grp['Non_event'].cumsum()\n",
    "\n",
    "df_grp['Cum event rate'] = (df_grp['Cum event'] / df_grp['Event'].sum()) * 100\n",
    "df_grp['Cum Non event rate'] = (df_grp['Cum Non event'] / df_grp['Non_event'].sum()) * 100\n",
    "\n",
    "df_grp['KS'] = abs(df_grp['Cum event rate'] - df_grp['Cum Non event rate'])\n",
    "\n",
    "df_grp"
   ]
  },
  {
   "cell_type": "code",
   "execution_count": 38,
   "id": "93c8ab84",
   "metadata": {},
   "outputs": [
    {
     "data": {
      "image/png": "[encoded data removed]",
      "text/plain": [
       "<Figure size 640x480 with 1 Axes>"
      ]
     },
     "metadata": {},
     "output_type": "display_data"
    }
   ],
   "source": [
    "feature_imp_dict = {\n",
    "    'Features': X_test.columns,\n",
    "    'Coefficient': model_lr_optuna.coef_[0]\n",
    "}\n",
    "feature_imp_df = pd.DataFrame(feature_imp_dict).sort_values(by= 'Coefficient', ascending= True)\n",
    "plt.barh(\n",
    "    y= feature_imp_df['Features'],\n",
    "    width= feature_imp_df['Coefficient']\n",
    ")\n",
    "plt.title('Feature importance in Logistic Regression')\n",
    "plt.show()"
   ]
  },
  {
   "cell_type": "markdown",
   "id": "ddf8b652",
   "metadata": {},
   "source": [
    "## Gini Coefficient"
   ]
  },
  {
   "cell_type": "code",
   "execution_count": 39,
   "id": "e3d05b56",
   "metadata": {},
   "outputs": [
    {
     "name": "stdout",
     "output_type": "stream",
     "text": [
      "Gini Coefficient : 0.97\n"
     ]
    }
   ],
   "source": [
    "gini = (area * 2) - 1\n",
    "print(f\"Gini Coefficient : {gini:.2f}\")"
   ]
  },
  {
   "cell_type": "markdown",
   "id": "eb2c6a4c",
   "metadata": {},
   "source": [
    "# Exporting model"
   ]
  },
  {
   "cell_type": "code",
   "execution_count": 40,
   "id": "3d5d924e",
   "metadata": {},
   "outputs": [
    {
     "data": {
      "text/plain": [
       "['D:/[01] SKILLS/[00] Projects/02 Probability of Default (PD) Model/model/model.joblib']"
      ]
     },
     "execution_count": 40,
     "metadata": {},
     "output_type": "execute_result"
    }
   ],
   "source": [
    "dump(\n",
    "    value = model_lr_optuna,\n",
    "    filename= 'D:/[01] SKILLS/[00] Projects/02 Probability of Default (PD) Model/model/model.joblib'\n",
    ")"
   ]
  }
 ],
 "metadata": {
  "kernelspec": {
   "display_name": "Python 3",
   "language": "python",
   "name": "python3"
  },
  "language_info": {
   "codemirror_mode": {
    "name": "ipython",
    "version": 3
   },
   "file_extension": ".py",
   "mimetype": "text/x-python",
   "name": "python",
   "nbconvert_exporter": "python",
   "pygments_lexer": "ipython3",
   "version": "3.13.3"
  }
 },
 "nbformat": 4,
 "nbformat_minor": 5
}
